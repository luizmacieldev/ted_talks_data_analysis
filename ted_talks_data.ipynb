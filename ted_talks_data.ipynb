{
 "cells": [
  {
   "cell_type": "markdown",
   "id": "e97c8e12",
   "metadata": {},
   "source": [
    "# Exercises list of Ted talks data\n",
    "\n",
    "1 -Finding the most popular TED talks\n",
    "\n",
    "2 - Finding the most popular TED talks Speaker (in terms of number of talks)\n",
    "\n",
    "3 - Month-wise Analysis of TED talk frequency\n",
    "\n",
    "4 - Year-wise Analysis of TED talk frequency\n",
    "\n",
    "5 - Finding TED talks of your favorite Author\n",
    "\n",
    "6 - Finding TED talks with the best view to like ration \n",
    "\n",
    "7 - Finding TED talks based on tags(like climate)\n",
    "\n",
    "8 -Finding the most popular TED talks Speaker (in terms of number of views)\n"
   ]
  },
  {
   "cell_type": "code",
   "execution_count": 292,
   "id": "0f075038",
   "metadata": {},
   "outputs": [],
   "source": [
    "from pyspark.sql import SparkSession\n",
    "from pyspark.sql.types import StructField,StructType,IntegerType,DateType,StringType\n",
    "from pyspark.sql.functions import desc, asc, split, col\n",
    "from pyspark.sql import functions as F\n"
   ]
  },
  {
   "cell_type": "code",
   "execution_count": 199,
   "id": "eab062f2",
   "metadata": {},
   "outputs": [],
   "source": [
    "spark = SparkSession.builder.appName('ted_talks_data').getOrCreate()\n"
   ]
  },
  {
   "cell_type": "code",
   "execution_count": 203,
   "id": "dcd52b25",
   "metadata": {},
   "outputs": [],
   "source": [
    "df = spark.read.csv('data.csv',header=True, schema=dataTalksSchema)"
   ]
  },
  {
   "cell_type": "code",
   "execution_count": 204,
   "id": "f7f69f61",
   "metadata": {},
   "outputs": [
    {
     "name": "stdout",
     "output_type": "stream",
     "text": [
      "root\n",
      " |-- title: string (nullable = true)\n",
      " |-- author: string (nullable = true)\n",
      " |-- date: string (nullable = true)\n",
      " |-- views: integer (nullable = true)\n",
      " |-- likes: integer (nullable = true)\n",
      " |-- link: string (nullable = true)\n",
      "\n"
     ]
    }
   ],
   "source": [
    "dataTalksSchema = StructType([\n",
    "    StructField('title',StringType(), True),\n",
    "    StructField('author',StringType(), True),\n",
    "    StructField('date',StringType(), True),\n",
    "    StructField('views',IntegerType(), True),\n",
    "    StructField('likes',IntegerType(), True),\n",
    "    StructField('link',StringType(), True)\n",
    "])\n",
    "\n",
    "df = spark.read.csv('data.csv',header=True, schema=dataTalksSchema)\n",
    "\n",
    "df.printSchema()"
   ]
  },
  {
   "cell_type": "code",
   "execution_count": 205,
   "id": "48cc8c2e",
   "metadata": {},
   "outputs": [
    {
     "data": {
      "text/plain": [
       "Row(author='Alex Gendler', count(views)=45)"
      ]
     },
     "execution_count": 205,
     "metadata": {},
     "output_type": "execute_result"
    }
   ],
   "source": [
    "#1 - Finding author most popular TED talks\n",
    "most_popular_ted_talk = df.orderBy(desc('views')).first()\n",
    "most_popular_speaker"
   ]
  },
  {
   "cell_type": "code",
   "execution_count": 330,
   "id": "bff48e1c",
   "metadata": {},
   "outputs": [
    {
     "name": "stdout",
     "output_type": "stream",
     "text": [
      "+----------------+-----+\n",
      "|          author|talks|\n",
      "+----------------+-----+\n",
      "|    Alex Gendler|   45|\n",
      "|Iseult Gillespie|   33|\n",
      "|     Matt Walker|   18|\n",
      "|  Alex Rosenthal|   15|\n",
      "|   Elizabeth Cox|   13|\n",
      "|      Emma Bryce|   12|\n",
      "|   Juan Enriquez|   11|\n",
      "|   Daniel Finkel|   11|\n",
      "|    Mona Chalabi|    9|\n",
      "|    Hans Rosling|    9|\n",
      "|       Greg Gage|    9|\n",
      "|      Dan Finkel|    9|\n",
      "|Wendy De La Rosa|    9|\n",
      "|      Jen Gunter|    9|\n",
      "|      Bill Gates|    8|\n",
      "|    Dan Kwartler|    7|\n",
      "|          TED-Ed|    7|\n",
      "|   Marco Tempest|    7|\n",
      "|           Rives|    6|\n",
      "|     A.J. Jacobs|    6|\n",
      "+----------------+-----+\n",
      "only showing top 20 rows\n",
      "\n"
     ]
    }
   ],
   "source": [
    "# 2 - Finding the most popular TED talks Speaker (in terms of number of talks)\n",
    "most_popular_speaker = df.groupBy('author').agg(\n",
    "    {'views':'count'}\n",
    "    ).withColumnRenamed(\"count(views)\",\"talks\").orderBy(desc('talks'))\n",
    "\n",
    "most_popular_speaker.show()"
   ]
  },
  {
   "cell_type": "code",
   "execution_count": 260,
   "id": "e845abac",
   "metadata": {},
   "outputs": [
    {
     "name": "stdout",
     "output_type": "stream",
     "text": [
      "+-------------+-----------+\n",
      "|         date|count(date)|\n",
      "+-------------+-----------+\n",
      "|   April 2018|        126|\n",
      "|   April 2019|        124|\n",
      "|   April 2017|        123|\n",
      "|November 2018|        114|\n",
      "|November 2017|        109|\n",
      "| October 2020|         97|\n",
      "|   March 2014|         96|\n",
      "|February 2016|         89|\n",
      "|   March 2015|         88|\n",
      "|    June 2012|         84|\n",
      "|February 2009|         84|\n",
      "| October 2014|         83|\n",
      "|    June 2013|         80|\n",
      "|February 2013|         77|\n",
      "|   March 2011|         76|\n",
      "| October 2021|         72|\n",
      "|February 2010|         70|\n",
      "|    July 2011|         70|\n",
      "|November 2015|         68|\n",
      "|    June 2020|         67|\n",
      "+-------------+-----------+\n",
      "only showing top 20 rows\n",
      "\n"
     ]
    }
   ],
   "source": [
    "# 3 - Month-wise Analysis of TED talk frequency\n",
    "frequence_by_month = df.groupBy('date').agg({'date':'count'}).orderBy(desc('count(date)'))\n",
    "frequence_by_month.show()"
   ]
  },
  {
   "cell_type": "code",
   "execution_count": 261,
   "id": "ddb17ac6",
   "metadata": {},
   "outputs": [
    {
     "name": "stdout",
     "output_type": "stream",
     "text": [
      "+----+-----------+\n",
      "|year|count(year)|\n",
      "+----+-----------+\n",
      "|2019|        543|\n",
      "|2020|        501|\n",
      "|2017|        495|\n",
      "|2018|        471|\n",
      "|2016|        399|\n",
      "|2021|        390|\n",
      "|2013|        388|\n",
      "|2015|        377|\n",
      "|2014|        357|\n",
      "|2012|        302|\n",
      "|2011|        271|\n",
      "|2010|        267|\n",
      "|2009|        233|\n",
      "|2007|        113|\n",
      "|2008|         83|\n",
      "|2005|         65|\n",
      "|2006|         49|\n",
      "|2003|         34|\n",
      "|2004|         33|\n",
      "|2002|         26|\n",
      "+----+-----------+\n",
      "only showing top 20 rows\n",
      "\n"
     ]
    }
   ],
   "source": [
    "# 4 - Year-wise Analysis of TED talk frequency\n",
    "custom_df = df.withColumn('year',split(df['date'],' ').getItem(1))\n",
    "custom_df = custom_df.drop('date')\n",
    "\n",
    "frequence_by_year = custom_df.groupBy('year').agg({'year':'count'}).orderBy(desc('count(year)'))\n",
    "frequence_by_year.show()"
   ]
  },
  {
   "cell_type": "code",
   "execution_count": 262,
   "id": "855bf69c",
   "metadata": {},
   "outputs": [
    {
     "name": "stdout",
     "output_type": "stream",
     "text": [
      "+--------------------+--------------------+--------------+------+-----+--------------------+\n",
      "|               title|              author|          date| views|likes|                link|\n",
      "+--------------------+--------------------+--------------+------+-----+--------------------+\n",
      "|Climate action ne...|Ozawa Bineshi Albert| December 2021|404000|12000|https://ted.com/t...|\n",
      "|The dark history ...|       Sydney Iaukea| February 2022|214000| 6400|https://ted.com/t...|\n",
      "|How play can spar...|       Martin Reeves|September 2021|412000|12000|https://ted.com/t...|\n",
      "|Why is China appo...|   James K. Thornton|  October 2021|427000|12000|https://ted.com/t...|\n",
      "|Cement's carbon p...|     Mahendra Singhi|  October 2021|  2400|   72|https://ted.com/t...|\n",
      "|The tragedy of ai...|Rosamund Adoo-Kis...|  October 2021|422000|12000|https://ted.com/t...|\n",
      "|The myth of Narci...|    Iseult Gillespie| February 2022|412000|12000|https://ted.com/t...|\n",
      "|You deserve the r...|    Gay Gordon-Byrne|   August 2021|455000|13000|https://ted.com/t...|\n",
      "|What nature can t...|         Erin Meezan| February 2022| 66000| 1900|https://ted.com/t...|\n",
      "|The origins of bl...|          Dwan Reece|    March 2019|584000|17000|https://ted.com/t...|\n",
      "|A sex therapist's...|          Ian Kerner|   August 2021| 87000| 2600|https://ted.com/t...|\n",
      "|How do jetpacks w...|    Richard Browning| February 2022|213000| 6400|https://ted.com/t...|\n",
      "|What regret can t...|      Daniel H. Pink|  January 2022|622000|18000|https://ted.com/t...|\n",
      "|\"How to fix the \"...|         Lucas Joppa|  October 2021|526000|15000|https://ted.com/t...|\n",
      "|\"\"\"Big Yellow Tax...| Belle and Sebastian|  October 2021| 23000|  690|https://ted.com/t...|\n",
      "+--------------------+--------------------+--------------+------+-----+--------------------+\n",
      "only showing top 15 rows\n",
      "\n"
     ]
    }
   ],
   "source": [
    "df.show(15)"
   ]
  },
  {
   "cell_type": "code",
   "execution_count": 271,
   "id": "3ff902ed",
   "metadata": {},
   "outputs": [
    {
     "name": "stdout",
     "output_type": "stream",
     "text": [
      "+--------------------+----------------+--------------+-------+------+--------------------+\n",
      "|               title|          author|          date|  views| likes|                link|\n",
      "+--------------------+----------------+--------------+-------+------+--------------------+\n",
      "|The myth of Narci...|Iseult Gillespie| February 2022| 412000| 12000|https://ted.com/t...|\n",
      "|The tragic myth o...|Iseult Gillespie|  January 2022| 998000| 29000|https://ted.com/t...|\n",
      "|The myth of Loki'...|Iseult Gillespie|  January 2022| 761000| 22000|https://ted.com/t...|\n",
      "|\"The Norse myth t...|Iseult Gillespie|  October 2021|1500000| 45000|https://ted.com/t...|\n",
      "|How one person sa...|Iseult Gillespie|     June 2021|1200000| 36000|https://ted.com/t...|\n",
      "|The Japanese myth...|Iseult Gillespie|  January 2021| 739000| 22000|https://ted.com/t...|\n",
      "|Savitri and Satya...|Iseult Gillespie|  January 2021|3900000|117000|https://ted.com/t...|\n",
      "|The myth of Loki ...|Iseult Gillespie| December 2020|1900000| 59000|https://ted.com/t...|\n",
      "|The Japanese folk...|Iseult Gillespie|September 2020|2100000| 63000|https://ted.com/t...|\n",
      "|The myth of Irela...|Iseult Gillespie|   August 2020|1000000| 30000|https://ted.com/t...|\n",
      "|The myth of Jason...|Iseult Gillespie|     July 2020|1000000| 30000|https://ted.com/t...|\n",
      "|The tale of the b...|Iseult Gillespie|     July 2020|4400000|134000|https://ted.com/t...|\n",
      "|How to see more a...|Iseult Gillespie|     June 2020| 364000| 10000|https://ted.com/t...|\n",
      "|The tale of the d...|Iseult Gillespie|    March 2020|6400000|193000|https://ted.com/t...|\n",
      "|The meaning of li...|Iseult Gillespie|    March 2020|1300000| 41000|https://ted.com/t...|\n",
      "|\"Why should you r...|Iseult Gillespie|September 2019| 393000| 11000|https://ted.com/t...|\n",
      "|The secret studen...|Iseult Gillespie|September 2019|1400000| 42000|https://ted.com/t...|\n",
      "|The myth of Jason...|Iseult Gillespie|   August 2019|1600000| 50000|https://ted.com/t...|\n",
      "|\"Why should you r...|Iseult Gillespie|   August 2019|1400000| 42000|https://ted.com/t...|\n",
      "|\"Why should you r...|Iseult Gillespie|     June 2019|1200000| 38000|https://ted.com/t...|\n",
      "+--------------------+----------------+--------------+-------+------+--------------------+\n",
      "only showing top 20 rows\n",
      "\n"
     ]
    }
   ],
   "source": [
    "# 5 - Finding TED talks of your favorite Author (Iseult Gillespie)\n",
    "df_favorite_author = df.filter(df.author == 'Iseult Gillespie')\n",
    "df_favorite_author.show()"
   ]
  },
  {
   "cell_type": "code",
   "execution_count": 289,
   "id": "4d2e9f3d",
   "metadata": {},
   "outputs": [
    {
     "data": {
      "text/plain": [
       "Row(title='Do schools kill creativity?', max(views)=72000000)"
      ]
     },
     "execution_count": 289,
     "metadata": {},
     "output_type": "execute_result"
    }
   ],
   "source": [
    "# 6 - Finding TED talks with the best view to like ration\n",
    "df_best_view = df.groupBy('title').agg({'views':'max'}).orderBy(desc('max(views)')).first()\n",
    "df_best_view"
   ]
  },
  {
   "cell_type": "code",
   "execution_count": 299,
   "id": "c6eb3468",
   "metadata": {},
   "outputs": [
    {
     "data": {
      "text/html": [
       "<div>\n",
       "<style scoped>\n",
       "    .dataframe tbody tr th:only-of-type {\n",
       "        vertical-align: middle;\n",
       "    }\n",
       "\n",
       "    .dataframe tbody tr th {\n",
       "        vertical-align: top;\n",
       "    }\n",
       "\n",
       "    .dataframe thead th {\n",
       "        text-align: right;\n",
       "    }\n",
       "</style>\n",
       "<table border=\"1\" class=\"dataframe\">\n",
       "  <thead>\n",
       "    <tr style=\"text-align: right;\">\n",
       "      <th></th>\n",
       "      <th>title</th>\n",
       "      <th>author</th>\n",
       "      <th>date</th>\n",
       "      <th>views</th>\n",
       "      <th>likes</th>\n",
       "      <th>link</th>\n",
       "    </tr>\n",
       "  </thead>\n",
       "  <tbody>\n",
       "    <tr>\n",
       "      <th>0</th>\n",
       "      <td>Why is China appointing judges to combat clima...</td>\n",
       "      <td>James K. Thornton</td>\n",
       "      <td>October 2021</td>\n",
       "      <td>427000</td>\n",
       "      <td>12000</td>\n",
       "      <td>https://ted.com/talks/james_k_thornton_why_is_...</td>\n",
       "    </tr>\n",
       "    <tr>\n",
       "      <th>1</th>\n",
       "      <td>The ocean's ingenious climate solutions</td>\n",
       "      <td>Susan Ruffo</td>\n",
       "      <td>October 2021</td>\n",
       "      <td>522000</td>\n",
       "      <td>15000</td>\n",
       "      <td>https://ted.com/talks/susan_ruffo_the_ocean_s_...</td>\n",
       "    </tr>\n",
       "    <tr>\n",
       "      <th>2</th>\n",
       "      <td>How we're reducing the climate impact of elect...</td>\n",
       "      <td>Tim Dunn</td>\n",
       "      <td>February 2022</td>\n",
       "      <td>96000</td>\n",
       "      <td>2900</td>\n",
       "      <td>https://ted.com/talks/tim_dunn_how_we_re_reduc...</td>\n",
       "    </tr>\n",
       "    <tr>\n",
       "      <th>3</th>\n",
       "      <td>How to boost nature-based solutions to climate...</td>\n",
       "      <td>Zac Goldsmith</td>\n",
       "      <td>October 2021</td>\n",
       "      <td>30000</td>\n",
       "      <td>913</td>\n",
       "      <td>https://ted.com/talks/zac_goldsmith_how_to_boo...</td>\n",
       "    </tr>\n",
       "    <tr>\n",
       "      <th>4</th>\n",
       "      <td>The unexpected, underwater plant fighting clim...</td>\n",
       "      <td>Carlos M. Duarte</td>\n",
       "      <td>August 2021</td>\n",
       "      <td>786000</td>\n",
       "      <td>23000</td>\n",
       "      <td>https://ted.com/talks/carlos_m_duarte_the_unex...</td>\n",
       "    </tr>\n",
       "    <tr>\n",
       "      <th>...</th>\n",
       "      <td>...</td>\n",
       "      <td>...</td>\n",
       "      <td>...</td>\n",
       "      <td>...</td>\n",
       "      <td>...</td>\n",
       "      <td>...</td>\n",
       "    </tr>\n",
       "    <tr>\n",
       "      <th>81</th>\n",
       "      <td>The science behind a climate headline</td>\n",
       "      <td>Rachel Pike</td>\n",
       "      <td>July 2009</td>\n",
       "      <td>1000000</td>\n",
       "      <td>31000</td>\n",
       "      <td>https://ted.com/talks/rachel_pike_the_science_...</td>\n",
       "    </tr>\n",
       "    <tr>\n",
       "      <th>82</th>\n",
       "      <td>New thinking on the climate crisis</td>\n",
       "      <td>Al Gore</td>\n",
       "      <td>March 2008</td>\n",
       "      <td>2200000</td>\n",
       "      <td>68000</td>\n",
       "      <td>https://ted.com/talks/al_gore_new_thinking_on_...</td>\n",
       "    </tr>\n",
       "    <tr>\n",
       "      <th>83</th>\n",
       "      <td>A critical look at geoengineering against clim...</td>\n",
       "      <td>David Keith</td>\n",
       "      <td>September 2007</td>\n",
       "      <td>1400000</td>\n",
       "      <td>44000</td>\n",
       "      <td>https://ted.com/talks/david_keith_a_critical_l...</td>\n",
       "    </tr>\n",
       "    <tr>\n",
       "      <th>84</th>\n",
       "      <td>Global priorities bigger than climate change</td>\n",
       "      <td>Bjorn Lomborg</td>\n",
       "      <td>February 2005</td>\n",
       "      <td>1700000</td>\n",
       "      <td>53000</td>\n",
       "      <td>https://ted.com/talks/bjorn_lomborg_global_pri...</td>\n",
       "    </tr>\n",
       "    <tr>\n",
       "      <th>85</th>\n",
       "      <td>Averting the climate crisis</td>\n",
       "      <td>Al Gore</td>\n",
       "      <td>February 2006</td>\n",
       "      <td>3600000</td>\n",
       "      <td>109000</td>\n",
       "      <td>https://ted.com/talks/al_gore_averting_the_cli...</td>\n",
       "    </tr>\n",
       "  </tbody>\n",
       "</table>\n",
       "<p>86 rows × 6 columns</p>\n",
       "</div>"
      ],
      "text/plain": [
       "                                                title             author  \\\n",
       "0   Why is China appointing judges to combat clima...  James K. Thornton   \n",
       "1             The ocean's ingenious climate solutions        Susan Ruffo   \n",
       "2   How we're reducing the climate impact of elect...           Tim Dunn   \n",
       "3   How to boost nature-based solutions to climate...      Zac Goldsmith   \n",
       "4   The unexpected, underwater plant fighting clim...   Carlos M. Duarte   \n",
       "..                                                ...                ...   \n",
       "81              The science behind a climate headline        Rachel Pike   \n",
       "82                 New thinking on the climate crisis            Al Gore   \n",
       "83  A critical look at geoengineering against clim...        David Keith   \n",
       "84       Global priorities bigger than climate change      Bjorn Lomborg   \n",
       "85                        Averting the climate crisis            Al Gore   \n",
       "\n",
       "              date    views   likes  \\\n",
       "0     October 2021   427000   12000   \n",
       "1     October 2021   522000   15000   \n",
       "2    February 2022    96000    2900   \n",
       "3     October 2021    30000     913   \n",
       "4      August 2021   786000   23000   \n",
       "..             ...      ...     ...   \n",
       "81       July 2009  1000000   31000   \n",
       "82      March 2008  2200000   68000   \n",
       "83  September 2007  1400000   44000   \n",
       "84   February 2005  1700000   53000   \n",
       "85   February 2006  3600000  109000   \n",
       "\n",
       "                                                 link  \n",
       "0   https://ted.com/talks/james_k_thornton_why_is_...  \n",
       "1   https://ted.com/talks/susan_ruffo_the_ocean_s_...  \n",
       "2   https://ted.com/talks/tim_dunn_how_we_re_reduc...  \n",
       "3   https://ted.com/talks/zac_goldsmith_how_to_boo...  \n",
       "4   https://ted.com/talks/carlos_m_duarte_the_unex...  \n",
       "..                                                ...  \n",
       "81  https://ted.com/talks/rachel_pike_the_science_...  \n",
       "82  https://ted.com/talks/al_gore_new_thinking_on_...  \n",
       "83  https://ted.com/talks/david_keith_a_critical_l...  \n",
       "84  https://ted.com/talks/bjorn_lomborg_global_pri...  \n",
       "85  https://ted.com/talks/al_gore_averting_the_cli...  \n",
       "\n",
       "[86 rows x 6 columns]"
      ]
     },
     "execution_count": 299,
     "metadata": {},
     "output_type": "execute_result"
    }
   ],
   "source": [
    "# 7 - Finding TED talks based on tags(like climate)\n",
    "df.filter(\"title LIKE '%climate%'\").toPandas()"
   ]
  },
  {
   "cell_type": "code",
   "execution_count": 338,
   "id": "396f6fe9",
   "metadata": {},
   "outputs": [
    {
     "data": {
      "text/plain": [
       "Row(author='Sir Ken Robinson', max(views)=72000000)"
      ]
     },
     "execution_count": 338,
     "metadata": {},
     "output_type": "execute_result"
    }
   ],
   "source": [
    "#8 -Finding the most popular TED talks Speaker (in terms of number of views)\n",
    "most_popular_speaker = df.groupBy('author').agg({'views':'max'}).orderBy(desc('max(views)')).first()\n",
    "most_popular_speaker"
   ]
  },
  {
   "cell_type": "code",
   "execution_count": null,
   "id": "aec6b1d6",
   "metadata": {},
   "outputs": [],
   "source": []
  }
 ],
 "metadata": {
  "kernelspec": {
   "display_name": "Python 3 (ipykernel)",
   "language": "python",
   "name": "python3"
  },
  "language_info": {
   "codemirror_mode": {
    "name": "ipython",
    "version": 3
   },
   "file_extension": ".py",
   "mimetype": "text/x-python",
   "name": "python",
   "nbconvert_exporter": "python",
   "pygments_lexer": "ipython3",
   "version": "3.8.10"
  }
 },
 "nbformat": 4,
 "nbformat_minor": 5
}
